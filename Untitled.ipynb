{
 "cells": [
  {
   "cell_type": "code",
   "execution_count": 68,
   "metadata": {},
   "outputs": [],
   "source": [
    "import urllib\n",
    "import pandas as pd\n",
    "import nltk\n",
    "\n",
    "disciplina = {}\n",
    "tst = {}\n",
    "\n",
    "def process(lst, index):\n",
    "    cod = lst\n",
    "    if cod != None and type(cod) == str:\n",
    "        inst = cod[:3]\n",
    "        num = cod[3:]\n",
    "        if inst not in disciplina.keys():\n",
    "            disciplina[inst] = {}\n",
    "        if num not in disciplina[inst].keys():\n",
    "            disciplina[inst][num] = {}\n",
    "            disciplina[inst][num]['nome'] = tst['nome'][index]\n",
    "            disciplina[inst][num]['ementa'] = tst['ementa'][index]\n",
    "        return True\n",
    "    return False\n",
    "\n",
    "def processText(text):\n",
    "    palavras = nltk.word_tokenize(text.lower())\n",
    "    palavras = RemoviStopWords(palavras)\n",
    "    palavras = Stemming(palavras)\n",
    "    return palavras\n",
    "\n",
    "def Stemming(instancia):\n",
    "    stemmer = nltk.stem.RSLPStemmer()\n",
    "    palavras=[]\n",
    "    for w in instancia:\n",
    "        palavras.append(stemmer.stem(w))\n",
    "    return palavras\n",
    "\n",
    "def RemoviStopWords(instancia):\n",
    "    instancia = instancia\n",
    "    stopwords = set(nltk.corpus.stopwords.words('portuguese'))\n",
    "    palavras = [i for i in instancia if not i in stopwords]\n",
    "    return palavras"
   ]
  },
  {
   "cell_type": "code",
   "execution_count": 69,
   "metadata": {},
   "outputs": [
    {
     "name": "stdout",
     "output_type": "stream",
     "text": [
      "['compos', 'músic', 'popul', 'iii']\n",
      "36992\n",
      "Processado\n"
     ]
    }
   ],
   "source": [
    "url = 'http://dados.ufrn.br/api/action/datastore_search?resource_id=9a3521d2-4bc5-4fda-93f0-f701c8a20727&limit=46000'\n",
    "fileobj = urllib.request.urlopen(url)\n",
    "aux = pd.read_json(fileobj.read())\n",
    "\n",
    "tst = pd.read_csv('componentes-curriculares-presenciais.csv', sep = ';', error_bad_lines=False)\n",
    "\n",
    "#txt = '' #@param {type: \"string\"}\n",
    "#print(aux['result']['records'][0])\n",
    "print(processText(tst['nome'][0]))\n",
    "print(len(tst['codigo']))\n",
    "\n",
    "#for i in aux['result']['records']:\n",
    "    #if (i['nome'] != None):\n",
    "    #    print(i['nome'])\n",
    "#    process(i)\n",
    "for i in range(len(tst['codigo'])):\n",
    "    process(tst['codigo'][i], i)\n",
    "print('Processado')"
   ]
  },
  {
   "cell_type": "code",
   "execution_count": null,
   "metadata": {},
   "outputs": [],
   "source": []
  },
  {
   "cell_type": "code",
   "execution_count": 67,
   "metadata": {},
   "outputs": [
    {
     "name": "stdout",
     "output_type": "stream",
     "text": [
      "{'nome': 'INTELIGÊNCIA ARTIFICIAL APLICADA À EDUCAÇÃO'}\n"
     ]
    }
   ],
   "source": [
    "print(disciplina['IMD']['0511'])"
   ]
  },
  {
   "cell_type": "code",
   "execution_count": null,
   "metadata": {},
   "outputs": [],
   "source": []
  }
 ],
 "metadata": {
  "kernelspec": {
   "display_name": "Python 3",
   "language": "python",
   "name": "python3"
  },
  "language_info": {
   "codemirror_mode": {
    "name": "ipython",
    "version": 3
   },
   "file_extension": ".py",
   "mimetype": "text/x-python",
   "name": "python",
   "nbconvert_exporter": "python",
   "pygments_lexer": "ipython3",
   "version": "3.7.1"
  }
 },
 "nbformat": 4,
 "nbformat_minor": 2
}
