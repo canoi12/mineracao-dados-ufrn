{
 "cells": [
  {
   "cell_type": "code",
   "execution_count": 1,
   "metadata": {},
   "outputs": [],
   "source": [
    "import urllib\n",
    "import pandas as pd\n",
    "import numpy as np\n",
    "import matplotlib.pyplot as plt\n",
    "import matplotlib.ticker as ticker\n",
    "import nltk\n",
    "\n",
    "disciplina = {}\n",
    "tst = {}\n",
    "vals = {}\n",
    "\n",
    "def checkLower(s):\n",
    "    for c in s:\n",
    "        if c.islower():\n",
    "            return True\n",
    "    return False\n",
    "\n",
    "def process(lst, index):\n",
    "    cod = lst\n",
    "    if type(tst['nome'][index]) != str or type(tst['ementa'][index]) != str:\n",
    "        return False\n",
    "    if checkLower(tst['nome'][index]):\n",
    "        return False\n",
    "    if cod != None and type(cod) == str:\n",
    "        inst = cod[:3]\n",
    "        num = cod[3:]\n",
    "        if inst not in disciplina.keys():\n",
    "            disciplina[inst] = {}\n",
    "        if num not in disciplina[inst].keys():\n",
    "            disciplina[inst][num] = {}\n",
    "            disciplina[inst][num]['nome'] = tst['nome'][index]\n",
    "            disciplina[inst][num]['ementa'] = tst['ementa'][index]\n",
    "            disciplina[inst][num]['pnome'] = processText(tst['nome'][index])\n",
    "            disciplina[inst][num]['pementa'] = processText(tst['ementa'][index])\n",
    "        return True\n",
    "    return False\n",
    "\n",
    "def get_jaccard_sim(disc1, disc2): \n",
    "    nome_disc1 = set(disc1['pnome'])\n",
    "    nome_disc2 = set(disc2['pnome'])\n",
    "    \n",
    "    similaridade_nome = nome_disc1.intersection(nome_disc2)\n",
    "    \n",
    "    resultado_nome = float(len(similaridade_nome)) / (len(nome_disc1) + len(nome_disc2) - len(similaridade_nome))\n",
    "    \n",
    "    ementa_disc1 = set(disc1['pementa'])\n",
    "    ementa_disc2 = set(disc2['pementa'])\n",
    "    \n",
    "    similaridade_ementa = ementa_disc1.intersection(ementa_disc2)\n",
    "    \n",
    "    resultado_ementa = float(len(similaridade_ementa)) / (len(ementa_disc1) + len(ementa_disc2) - len(similaridade_ementa))\n",
    "    \n",
    "    return float((resultado_nome + resultado_ementa) / 2 )\n",
    "\n",
    "def compareText(txt1, txt2):\n",
    "    count = 0\n",
    "    for i in txt1:\n",
    "        for v in txt2:\n",
    "            if i == v:\n",
    "                count += 1\n",
    "    return count\n",
    "\n",
    "def getComponent(component):\n",
    "    component = str(component)\n",
    "    print(component)\n",
    "    ret = disciplina[component[:3]][component[3:]]\n",
    "    return ret \n",
    "\n",
    "def processText(text):\n",
    "    palavras = nltk.word_tokenize(text.lower())\n",
    "    palavras = RemoviStopWords(palavras)\n",
    "    palavras = Stemming(palavras)\n",
    "    return palavras\n",
    "\n",
    "def Stemming(instancia):\n",
    "    stemmer = nltk.stem.RSLPStemmer()\n",
    "    palavras=[]\n",
    "    for w in instancia:\n",
    "        palavras.append(stemmer.stem(w))\n",
    "    return palavras\n",
    "\n",
    "def RemoviStopWords(instancia):\n",
    "    instancia = instancia\n",
    "    stopwords = set(nltk.corpus.stopwords.words('portuguese'))\n",
    "    palavras = [i for i in instancia if not i in stopwords]\n",
    "    return palavras"
   ]
  },
  {
   "cell_type": "code",
   "execution_count": 2,
   "metadata": {},
   "outputs": [
    {
     "name": "stderr",
     "output_type": "stream",
     "text": [
      "/usr/lib/python3.7/site-packages/IPython/core/interactiveshell.py:3020: DtypeWarning: Columns (6,7,8,20,25,26,29,31,34,35,36) have mixed types. Specify dtype option on import or set low_memory=False.\n",
      "  interactivity=interactivity, compiler=compiler, result=result)\n"
     ]
    },
    {
     "name": "stdout",
     "output_type": "stream",
     "text": [
      "Processado\n"
     ]
    }
   ],
   "source": [
    "#url = 'http://dados.ufrn.br/api/action/datastore_search?resource_id=9a3521d2-4bc5-4fda-93f0-f701c8a20727&limit=46000'\n",
    "#fileobj = urllib.request.urlopen(url)\n",
    "#aux = pd.read_json(fileobj.read())\n",
    "\n",
    "tst = pd.read_csv('componentes-curriculares-presenciais.csv', sep = ';', error_bad_lines=False)\n",
    "\n",
    "#txt = '' #@param {type: \"string\"}\n",
    "#print(aux['result']['records'][0])\n",
    "#print(processText(tst['nome'][0]))\n",
    "#print(len(tst['codigo']))\n",
    "\n",
    "#for i in aux['result']['records']:\n",
    "    #if (i['nome'] != None):\n",
    "    #    print(i['nome'])\n",
    "#    process(i)\n",
    "for i in range(len(tst['codigo'])):\n",
    "    process(tst['codigo'][i], i)\n",
    "print('Processado')"
   ]
  },
  {
   "cell_type": "code",
   "execution_count": 18,
   "metadata": {},
   "outputs": [
    {
     "name": "stdout",
     "output_type": "stream",
     "text": [
      "Digite um disciplina para comparar: IMD0036\n",
      "IMD0036\n",
      "{'nome': 'SISTEMAS OPERACIONAIS', 'ementa': '1. Histórico e conceitos básicos.\\n2. Gerência de processos e programação concorrente.\\n3. Gerência de memória principal e auxiliar.\\n4. Gerência de dispositivos de entrada e saída.\\n5. Estudo de sistemas operacionais existentes.\\n6. Virtualização de Sistemas Operacionais.', 'pnome': ['sistem', 'operac'], 'pementa': ['1.', 'histór', 'conceit', 'básic', '.', '2.', 'ger', 'process', 'program', 'concorr', '.', '3.', 'ger', 'memór', 'princip', 'auxili', '.', '4.', 'ger', 'disposi', 'entr', 'saíd', '.', '5.', 'estud', 'sistem', 'operac', 'exist', '.', '6.', 'virtu', 'sistem', 'operac', '.']}\n"
     ]
    }
   ],
   "source": [
    "nam = input('Digite um disciplina para comparar: ')\n",
    "escolha = getComponent(nam)\n",
    "print(escolha)"
   ]
  },
  {
   "cell_type": "code",
   "execution_count": 19,
   "metadata": {
    "scrolled": true
   },
   "outputs": [
    {
     "data": {
      "image/png": "[encoded data removed]",
      "text/plain": [
       "<Figure size 432x288 with 1 Axes>"
      ]
     },
     "metadata": {
      "needs_background": "light"
     },
     "output_type": "display_data"
    }
   ],
   "source": [
    "all_n = {}\n",
    "for setor in disciplina:\n",
    "    for disci in disciplina[setor]:\n",
    "        if setor == nam[:3] and disci == nam[3:]:\n",
    "            continue\n",
    "        count = get_jaccard_sim(escolha, disciplina[setor][disci])\n",
    "        all_n[setor+disci] = count\n",
    "#print(all_n)\n",
    "sort = sorted(all_n.items(), key=lambda kv: kv[1])\n",
    "nlist = sort[-5:]\n",
    "keys = []\n",
    "values = []\n",
    "for it in nlist:\n",
    "    keys.append(str(it[0]))\n",
    "    values.append(it[1])\n",
    "\n",
    "y_pos = np.arange(len(keys))\n",
    "\n",
    "plt.bar(y_pos, values, align='center',alpha=0.5)\n",
    "plt.xticks(y_pos, keys)\n",
    "plt.title('Teste')\n",
    "\n",
    "plt.show()\n",
    "    "
   ]
  },
  {
   "cell_type": "code",
   "execution_count": 20,
   "metadata": {},
   "outputs": [
    {
     "name": "stdout",
     "output_type": "stream",
     "text": [
      "{'nome': 'SISTEMAS OPERACIONAIS', 'ementa': 'Histórico e conceitos básicos. Gerência de processos e programação concorrente. Gerência de memória principal e auxiliar. Gerência de dispositivos de entrada e saída. Estudo de sistemas operacionais existentes', 'pnome': ['sistem', 'operac'], 'pementa': ['histór', 'conceit', 'básic', '.', 'ger', 'process', 'program', 'concorr', '.', 'ger', 'memór', 'princip', 'auxili', '.', 'ger', 'disposi', 'entr', 'saíd', '.', 'estud', 'sistem', 'operac', 'exist']}\n"
     ]
    }
   ],
   "source": [
    "print(disciplina['IMD']['0432'])"
   ]
  },
  {
   "cell_type": "code",
   "execution_count": null,
   "metadata": {},
   "outputs": [],
   "source": []
  }
 ],
 "metadata": {
  "kernelspec": {
   "display_name": "Python 3",
   "language": "python",
   "name": "python3"
  },
  "language_info": {
   "codemirror_mode": {
    "name": "ipython",
    "version": 3
   },
   "file_extension": ".py",
   "mimetype": "text/x-python",
   "name": "python",
   "nbconvert_exporter": "python",
   "pygments_lexer": "ipython3",
   "version": "3.7.1"
  }
 },
 "nbformat": 4,
 "nbformat_minor": 2
}
